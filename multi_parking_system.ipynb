{
  "nbformat": 4,
  "nbformat_minor": 0,
  "metadata": {
    "colab": {
      "provenance": [],
      "authorship_tag": "ABX9TyOaKDBnp52cBiZArvKP0P9p",
      "include_colab_link": true
    },
    "kernelspec": {
      "name": "python3",
      "display_name": "Python 3"
    },
    "language_info": {
      "name": "python"
    }
  },
  "cells": [
    {
      "cell_type": "markdown",
      "metadata": {
        "id": "view-in-github",
        "colab_type": "text"
      },
      "source": [
        "<a href=\"https://colab.research.google.com/github/Joysusan7/multiparking-system/blob/main/multi_parking_system.ipynb\" target=\"_parent\"><img src=\"https://colab.research.google.com/assets/colab-badge.svg\" alt=\"Open In Colab\"/></a>"
      ]
    },
    {
      "cell_type": "code",
      "execution_count": 2,
      "metadata": {
        "colab": {
          "base_uri": "https://localhost:8080/"
        },
        "id": "4tmDc0T5XSfS",
        "outputId": "ba0311c5-3ac8-4599-93be-073aa6178566"
      },
      "outputs": [
        {
          "output_type": "stream",
          "name": "stdout",
          "text": [
            "Enter the maximum number of rows in your parking area : 10\n",
            "Enter the maximum number of columns in your parking area : 10\n",
            "How many floors do you have for parking? : 5\n",
            "\n",
            "\tEnter 'in' to park a new vehicle\n",
            "\tEnter 'out.vehicle<number>' to unpark a parked vehicle with its number\n",
            "\tEnter 'close' to terminate the program\n",
            "in\n",
            "Parking slot is allocated for your vehicle.1 at :\n",
            "Row=1\n",
            "Column=1\n",
            "floor1\n",
            "\n",
            "in\n",
            "Parking slot is allocated for your vehicle.2 at :\n",
            "Row=2\n",
            "Column=1\n",
            "floor1\n",
            "\n",
            "out.vehicle<2754>\n",
            "Enter the correct input\n",
            "\n",
            "close\n",
            "The process is terminated successfully\n",
            "\tALERT! Below vehicle/s are yet to be unparked\n",
            "\tVehicle(1)\n",
            "\tVehicle(2)\n"
          ]
        }
      ],
      "source": [
        "#method if user enters 'in'\n",
        "def in_method(t,r,c,f,x):\n",
        "    for i in range(f):\n",
        "        for j in range(c):\n",
        "            for k in range(r):\n",
        "                if t[i][j][k]=='free':\n",
        "                    print(f'Parking slot is allocated for your vehicle.{x} at :\\nRow={k+1}\\nColumn={j+1}\\nfloor{i+1}')\n",
        "                    t[i][j][k]=f'vehicle{x}'#######The major issue is here why is it changing all the values\n",
        "                    return True\n",
        "    print(f'All the parking slots are FULL, can\\'t park vehicle.{x}')\n",
        "    return False\n",
        "def out_method(t,r,c,f,x):\n",
        "    for i in range(f):\n",
        "        for j in range(c):\n",
        "            for k in range(r):\n",
        "                if t[i][j][k]==f'vehicle{x}':\n",
        "                    t[i][j][k]='free'\n",
        "                    return\n",
        "\n",
        "#__main__\n",
        "r=int(input('Enter the maximum number of rows in your parking area : '))\n",
        "c=int(input('Enter the maximum number of columns in your parking area : '))\n",
        "f=int(input('How many floors do you have for parking? : '))\n",
        "total_capacity=[[[ 'free' for k in range(r)] for j in range(c)] for i in range(f)]\n",
        "\n",
        "print('\\n\\tEnter \\'in\\' to park a new vehicle')\n",
        "print('\\tEnter \\'out.vehicle<number>\\' to unpark a parked vehicle with its number')\n",
        "print('\\tEnter \\'close\\' to terminate the program')\n",
        "\n",
        "process=input()\n",
        "#waits for the user input\n",
        "\n",
        "#out interface\n",
        "vno=0#used for naming every vehice comes to park\n",
        "vnolist=[]#used to store the history of the parked vehicles\n",
        "while process!='close':\n",
        "    if process=='in':\n",
        "        check=in_method(total_capacity,r,c,f,vno+1)\n",
        "        if check==True:\n",
        "            #if the parking slot is available, allocated\n",
        "            vno+=1\n",
        "            vnolist.append(vno)#adding the vehicle name into the record of current parked vehicles\n",
        "    else:\n",
        "        vehiclenumber=process.replace('out.vehicle','')\n",
        "        try:\n",
        "            #vehicle number is generated here\n",
        "            vehiclenumber=int(vehiclenumber)\n",
        "            #checking if that vehicle number exists or not\n",
        "            if vehiclenumber in vnolist:\n",
        "                #vehicle is already parked now get it removed\n",
        "                vnolist.remove(vehiclenumber)#removing that particular vehicle from the record of current parked vehicles\n",
        "                #pass to the method to make changes in the list\n",
        "                out_method(total_capacity,r,c,f,vehiclenumber)\n",
        "                print(f'Vehicle.{vehiclenumber} is unparked successfully')\n",
        "            else:\n",
        "                #if user tries to remove the vehicle which is not parked\n",
        "                print('The vehicle does\\'nt exist to be unparked')\n",
        "        except ValueError:\n",
        "            print('Enter the correct input')\n",
        "    process = input('\\n')\n",
        "print('The process is terminated successfully')\n",
        "print(\"\\tALERT!\",end=' ')\n",
        "if vnolist!=[]:\n",
        "    print(\"Below vehicle/s are yet to be unparked\")\n",
        "    for i in range(len(vnolist)):\n",
        "        print(f'\\tVehicle({vnolist[i]})')\n",
        "\n"
      ]
    }
  ]
}